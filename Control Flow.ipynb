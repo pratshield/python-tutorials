{
 "cells": [
  {
   "cell_type": "markdown",
   "metadata": {},
   "source": [
    "# If Else"
   ]
  },
  {
   "cell_type": "code",
   "execution_count": 2,
   "metadata": {},
   "outputs": [],
   "source": [
    "# if test expression:\n",
    "#     execute this\n",
    "# elif test expression:\n",
    "#     execute this\n",
    "# else test expression:\n",
    "#     execute this"
   ]
  },
  {
   "cell_type": "code",
   "execution_count": 7,
   "metadata": {},
   "outputs": [
    {
     "name": "stdout",
     "output_type": "stream",
     "text": [
      "1 is not divisible by 3\n"
     ]
    }
   ],
   "source": [
    "# Ques: Check whether the number is divisible by 3 or not.\n",
    "\n",
    "num=1\n",
    "if num%3==0:\n",
    "    print(str(num)+' is divisible by 3')\n",
    "else:\n",
    "    print(str(num)+' is not divisible by 3')"
   ]
  },
  {
   "cell_type": "code",
   "execution_count": 15,
   "metadata": {},
   "outputs": [
    {
     "name": "stdout",
     "output_type": "stream",
     "text": [
      "First Name: prat\n",
      "Last Name: shek\n",
      "User has Full Name--- prat shek\n"
     ]
    }
   ],
   "source": [
    "# Ques: Check whether the user input first name, last name or full name\n",
    "\n",
    "first_name=input('First Name: ')\n",
    "last_name=input('Last Name: ')\n",
    "\n",
    "if first_name !='' and last_name =='':\n",
    "    print('User has only First Name---',first_name)\n",
    "elif first_name =='' and last_name !='':\n",
    "    print('User has only Last Name---',last_name)\n",
    "elif first_name !='' and last_name !='':\n",
    "    print('User has Full Name---',first_name,last_name)\n",
    "else:\n",
    "    print('No Name')"
   ]
  },
  {
   "cell_type": "code",
   "execution_count": 20,
   "metadata": {},
   "outputs": [
    {
     "name": "stdout",
     "output_type": "stream",
     "text": [
      "21 is divisible by 3\n"
     ]
    }
   ],
   "source": [
    "# Ques: Check whether the number is divisible by 3 or 5 or both.\n",
    "\n",
    "num=21\n",
    "\n",
    "if num%3==0 and num%5==0:\n",
    "    print(str(num)+' is divisible by 3 and 5')\n",
    "elif num%3==0:\n",
    "    print(str(num)+' is only divisible by 3')\n",
    "elif num%5==0:\n",
    "    print(str(num)+' is only divisible by 5')\n",
    "else:\n",
    "    print(str(num)+' is not divisible by either 3 or 5')"
   ]
  },
  {
   "cell_type": "markdown",
   "metadata": {},
   "source": [
    "# While loop"
   ]
  },
  {
   "cell_type": "code",
   "execution_count": 21,
   "metadata": {},
   "outputs": [],
   "source": [
    "# while test expression:\n",
    "#     execute this"
   ]
  },
  {
   "cell_type": "code",
   "execution_count": 2,
   "metadata": {},
   "outputs": [
    {
     "name": "stdout",
     "output_type": "stream",
     "text": [
      "Enter the number:4\n",
      "Factorial  is 24\n"
     ]
    }
   ],
   "source": [
    "# Ques: Find Factorial of any number\n",
    "# e.g. factorial of 5=5*4*3*2*1\n",
    "\n",
    "num=int(input('Enter the number:'))\n",
    "if num==0:\n",
    "    print('Factorial of 0 is 0') \n",
    "else:\n",
    "    \n",
    "    product=1\n",
    "    while num>1:\n",
    "        product*=num\n",
    "        num-=1\n",
    "    print('Factorial  is {}'.format(product))"
   ]
  },
  {
   "cell_type": "code",
   "execution_count": 8,
   "metadata": {},
   "outputs": [
    {
     "name": "stdout",
     "output_type": "stream",
     "text": [
      "Enter the number:15\n",
      "15 is not prime\n"
     ]
    }
   ],
   "source": [
    "# While loop with else\n",
    "# Ques: Check whether a number is prime or not\n",
    "\n",
    "num=int(input('Enter the number:'))\n",
    "start=2\n",
    "while start<=num/2:\n",
    "    if num%start==0:\n",
    "        print('{} is not prime'.format(num))\n",
    "        break\n",
    "    start+=1\n",
    "else:\n",
    "    print('{} is prime'.format(num)) "
   ]
  },
  {
   "cell_type": "markdown",
   "metadata": {},
   "source": [
    "# For Loop"
   ]
  },
  {
   "cell_type": "code",
   "execution_count": 9,
   "metadata": {},
   "outputs": [],
   "source": [
    "# The for loop in Python is used to iterate the statements or a part of the program several times.\n",
    "# It is frequently used to traverse the data structures like list, tuple, or dictionary."
   ]
  },
  {
   "cell_type": "code",
   "execution_count": 10,
   "metadata": {},
   "outputs": [],
   "source": [
    "# for iterating_var in sequence:    \n",
    "#     statement(s) "
   ]
  },
  {
   "cell_type": "code",
   "execution_count": 2,
   "metadata": {},
   "outputs": [
    {
     "name": "stdout",
     "output_type": "stream",
     "text": [
      "[50, 52, 54, 56, 58, 60, 62, 64, 66, 68, 70, 72, 74, 76, 78, 80, 82, 84, 86, 88, 90, 92, 94, 96, 98]\n"
     ]
    }
   ],
   "source": [
    "# Ques: Find all numbers divisible by 3 between 50-100\n",
    "\n",
    "result=[]\n",
    "for x in range(50,100):\n",
    "    if x%2==0:\n",
    "         result.append(x)\n",
    "    else:\n",
    "        pass\n",
    "print(result)"
   ]
  },
  {
   "cell_type": "code",
   "execution_count": null,
   "metadata": {},
   "outputs": [],
   "source": []
  }
 ],
 "metadata": {
  "kernelspec": {
   "display_name": "Python 3",
   "language": "python",
   "name": "python3"
  },
  "language_info": {
   "codemirror_mode": {
    "name": "ipython",
    "version": 3
   },
   "file_extension": ".py",
   "mimetype": "text/x-python",
   "name": "python",
   "nbconvert_exporter": "python",
   "pygments_lexer": "ipython3",
   "version": "3.7.4"
  }
 },
 "nbformat": 4,
 "nbformat_minor": 2
}
