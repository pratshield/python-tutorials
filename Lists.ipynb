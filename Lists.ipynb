{
 "cells": [
  {
   "cell_type": "markdown",
   "metadata": {},
   "source": [
    "# What are list?"
   ]
  },
  {
   "cell_type": "markdown",
   "metadata": {},
   "source": [
    "Before going to answer this let's know a little about Data Structure.\n",
    "\n",
    "A data structure is a collection of elements(numbers, characters or other data structures) that is structured in some way.\n",
    "The structure can be based on sequence or key-value pairs etc.\n",
    "One of the basic data structure is sequential data structure."
   ]
  },
  {
   "cell_type": "markdown",
   "metadata": {},
   "source": [
    "As we know from the lecture of Variables and Data Types, we have 3 different types of sequence Data Types:\n",
    "1. String\n",
    "2. List\n",
    "3. Tuple\n",
    "\n",
    "Out of these three, Lists and Tuples are data structures."
   ]
  },
  {
   "cell_type": "markdown",
   "metadata": {},
   "source": [
    "Lists are one of the four(Lists, Tuples, Set, Dictionary) in-built data types in Python which is used to store a collection of elements.\n",
    "\n",
    "Lists can store various data types i.e numbers, strings, tuples, lists etc.\n",
    "\n",
    "* Lists are enclosed in [ ]"
   ]
  },
  {
   "cell_type": "markdown",
   "metadata": {},
   "source": [
    "# Creating a List"
   ]
  },
  {
   "cell_type": "markdown",
   "metadata": {},
   "source": [
    " Creating Empty List\n"
   ]
  },
  {
   "cell_type": "code",
   "execution_count": 1,
   "metadata": {},
   "outputs": [],
   "source": [
    "my_list=[]"
   ]
  },
  {
   "cell_type": "code",
   "execution_count": 8,
   "metadata": {},
   "outputs": [
    {
     "name": "stdout",
     "output_type": "stream",
     "text": [
      "<class 'list'>\n"
     ]
    }
   ],
   "source": [
    "print(type(my_list))"
   ]
  },
  {
   "cell_type": "code",
   "execution_count": 3,
   "metadata": {},
   "outputs": [
    {
     "name": "stdout",
     "output_type": "stream",
     "text": [
      "[]\n"
     ]
    }
   ],
   "source": [
    "print(my_list)"
   ]
  },
  {
   "cell_type": "markdown",
   "metadata": {},
   "source": [
    "Creating Lists containing various different data types"
   ]
  },
  {
   "cell_type": "code",
   "execution_count": 4,
   "metadata": {},
   "outputs": [
    {
     "name": "stdout",
     "output_type": "stream",
     "text": [
      "[1, 2, 3, 4]\n"
     ]
    }
   ],
   "source": [
    "num_list=[1,2,3,4]\n",
    "print(num_list)"
   ]
  },
  {
   "cell_type": "code",
   "execution_count": 5,
   "metadata": {},
   "outputs": [],
   "source": [
    "name_list=['Draco','Lucious','Lestrange']\n",
    "bool_list=[True,False,True]\n",
    "houses=[1,'Gryffindor',2,'Hufflepuff',True]\n",
    "friends=[('Harry','Ron'),('Luna','Ginny'),'Malfoy']\n",
    "teams=[[2,4,8],[3,9,27]]"
   ]
  },
  {
   "cell_type": "code",
   "execution_count": 7,
   "metadata": {},
   "outputs": [
    {
     "name": "stdout",
     "output_type": "stream",
     "text": [
      "[[2, 4, 8], [3, 9, 27]]\n",
      "[('Harry', 'Ron'), ('Luna', 'Ginny'), 'Malfoy']\n"
     ]
    }
   ],
   "source": [
    "print(teams)\n",
    "print(friends)"
   ]
  },
  {
   "cell_type": "markdown",
   "metadata": {},
   "source": [
    "# List Indexing"
   ]
  },
  {
   "cell_type": "markdown",
   "metadata": {},
   "source": [
    "Lists are sequential data structure and the elements of Lists are indexed.\n",
    "Indexing sequence starts from 0 and goes till the (length-1) of the list\n",
    "e.g."
   ]
  },
  {
   "cell_type": "code",
   "execution_count": 10,
   "metadata": {},
   "outputs": [
    {
     "name": "stdout",
     "output_type": "stream",
     "text": [
      "Goblet\n",
      "Chamber\n",
      "Blood\n"
     ]
    }
   ],
   "source": [
    "list1=['Goblet','Chamber','Blood']\n",
    "\n",
    "# The first element has index [0], second element has index [1], third has index [2] and so on\n",
    "# We access the elements of list by indexing(giving the index number in big brackets after the list name)\n",
    "\n",
    "print(list1[0])\n",
    "print(list1[1])\n",
    "print(list1[2])"
   ]
  },
  {
   "cell_type": "markdown",
   "metadata": {},
   "source": [
    "Unlike many pprogramming languages,python gives the flexibility for negative indexing also"
   ]
  },
  {
   "cell_type": "markdown",
   "metadata": {},
   "source": [
    "Negative indexing starts from -1 and from the rightmost element"
   ]
  },
  {
   "attachments": {
    "List.png": {
     "image/png": "[encoded data removed]"
    }
   },
   "cell_type": "markdown",
   "metadata": {},
   "source": [
    "![List.png](attachment:List.png)"
   ]
  },
  {
   "cell_type": "code",
   "execution_count": 15,
   "metadata": {},
   "outputs": [
    {
     "name": "stdout",
     "output_type": "stream",
     "text": [
      "Blood\n",
      "Chamber\n"
     ]
    }
   ],
   "source": [
    "print(list1[-1])\n",
    "print(list1[-2])"
   ]
  },
  {
   "cell_type": "markdown",
   "metadata": {},
   "source": [
    "* List items are ordered"
   ]
  },
  {
   "cell_type": "code",
   "execution_count": 11,
   "metadata": {},
   "outputs": [
    {
     "data": {
      "text/plain": [
       "False"
      ]
     },
     "execution_count": 11,
     "metadata": {},
     "output_type": "execute_result"
    }
   ],
   "source": [
    "list2=['Chamber','Blood','Goblet']\n",
    "\n",
    "# list1 and list2 have same elements but the order of the elements are different.\n",
    "# As List items are ordered, we can say that list1 and list2 are different\n",
    "\n",
    "list1==list2"
   ]
  },
  {
   "cell_type": "markdown",
   "metadata": {},
   "source": [
    "* List items are changeable and allow duplicates"
   ]
  },
  {
   "cell_type": "code",
   "execution_count": 12,
   "metadata": {},
   "outputs": [
    {
     "name": "stdout",
     "output_type": "stream",
     "text": [
      "['Chamber', 'Half Blood', 'Goblet']\n"
     ]
    }
   ],
   "source": [
    "# We can chnage the value of list items by accessing the item and then assigning different value at that index\n",
    "# If we change the value of list item,the old value is lost.\n",
    "\n",
    "list2[1]='Half Blood'\n",
    "print(list2)"
   ]
  },
  {
   "cell_type": "code",
   "execution_count": 13,
   "metadata": {},
   "outputs": [
    {
     "data": {
      "text/plain": [
       "[True, False, True]"
      ]
     },
     "execution_count": 13,
     "metadata": {},
     "output_type": "execute_result"
    }
   ],
   "source": [
    "# We can store duplicate values in list\n",
    "\n",
    "bool_list"
   ]
  },
  {
   "cell_type": "code",
   "execution_count": 14,
   "metadata": {},
   "outputs": [
    {
     "name": "stdout",
     "output_type": "stream",
     "text": [
      "True\n",
      "True\n"
     ]
    }
   ],
   "source": [
    "print(bool_list[0])\n",
    "print(bool_list[2])"
   ]
  },
  {
   "cell_type": "markdown",
   "metadata": {},
   "source": [
    "# List Slicing"
   ]
  },
  {
   "cell_type": "markdown",
   "metadata": {},
   "source": [
    "As the word suggests, slicing is used to extract a sub-list from the list.\n",
    "We do the slicing based on the index of elements of list"
   ]
  },
  {
   "cell_type": "markdown",
   "metadata": {},
   "source": [
    "In slicing we have 3 parts\n",
    "* start : starting index of the slice\n",
    "* end : end index of the slice (the end index item is not included)\n",
    "* step : skip nth elements between start and end"
   ]
  },
  {
   "cell_type": "markdown",
   "metadata": {},
   "source": [
    "\n",
    "    list_name[start:end:step]"
   ]
  },
  {
   "cell_type": "code",
   "execution_count": 18,
   "metadata": {},
   "outputs": [],
   "source": [
    "my_list=[2,4,6,8,9,12,15]"
   ]
  },
  {
   "cell_type": "markdown",
   "metadata": {},
   "source": [
    "If we don't give any start or end index, python assumes default start and end index of the list"
   ]
  },
  {
   "cell_type": "markdown",
   "metadata": {},
   "source": [
    "Default value of step is 1. Also, it is not mandatory"
   ]
  },
  {
   "cell_type": "code",
   "execution_count": 22,
   "metadata": {},
   "outputs": [
    {
     "name": "stdout",
     "output_type": "stream",
     "text": [
      "[2, 4, 6, 8, 9, 12, 15]\n",
      "[4, 6, 8, 9, 12, 15]\n",
      "[2, 4, 6, 8]\n",
      "[4, 6]\n",
      "[6, 9]\n"
     ]
    }
   ],
   "source": [
    "print(my_list[:]) # default start,stop and step\n",
    "print(my_list[1:]) # start index as 1, rest are default\n",
    "print(my_list[:4]) # end index as 3, rest are default\n",
    "print(my_list[1:3]) # from index 1 to 2\n",
    "print(my_list[2:6:2]) # from index 2 to 5 with step 2 "
   ]
  },
  {
   "cell_type": "markdown",
   "metadata": {},
   "source": [
    "# List Length"
   ]
  },
  {
   "cell_type": "code",
   "execution_count": 23,
   "metadata": {},
   "outputs": [
    {
     "name": "stdout",
     "output_type": "stream",
     "text": [
      "7\n"
     ]
    }
   ],
   "source": [
    "# len() function returns the length of the list\n",
    "\n",
    "print(len(my_list))"
   ]
  },
  {
   "cell_type": "markdown",
   "metadata": {},
   "source": [
    "# List Append"
   ]
  },
  {
   "cell_type": "code",
   "execution_count": 24,
   "metadata": {},
   "outputs": [
    {
     "name": "stdout",
     "output_type": "stream",
     "text": [
      "[2, 4, 6, 8, 9, 12, 15, 20]\n"
     ]
    }
   ],
   "source": [
    "# append() adds the item at the end\n",
    "\n",
    "my_list.append(20)\n",
    "print(my_list)"
   ]
  },
  {
   "cell_type": "code",
   "execution_count": 32,
   "metadata": {},
   "outputs": [
    {
     "data": {
      "text/plain": [
       "[1, 2, 3, 4, [10, 20]]"
      ]
     },
     "execution_count": 32,
     "metadata": {},
     "output_type": "execute_result"
    }
   ],
   "source": [
    "list1=[1,2,3,4]\n",
    "list2=[10,20]\n",
    "list1.append(list2)\n",
    "list1"
   ]
  },
  {
   "cell_type": "markdown",
   "metadata": {},
   "source": [
    "# List Insert"
   ]
  },
  {
   "cell_type": "code",
   "execution_count": 29,
   "metadata": {},
   "outputs": [
    {
     "data": {
      "text/plain": [
       "[2, 3, 4, 6, 8, 9, 12, 15, 20]"
      ]
     },
     "execution_count": 29,
     "metadata": {},
     "output_type": "execute_result"
    }
   ],
   "source": [
    "# insert(index,value) insets new element at the specified index\n",
    "\n",
    "my_list.insert(1,3)\n",
    "my_list"
   ]
  },
  {
   "cell_type": "markdown",
   "metadata": {},
   "source": [
    "# List Delete "
   ]
  },
  {
   "cell_type": "code",
   "execution_count": 30,
   "metadata": {},
   "outputs": [
    {
     "data": {
      "text/plain": [
       "[2, 3, 4, 6, 9, 12, 15, 20]"
      ]
     },
     "execution_count": 30,
     "metadata": {},
     "output_type": "execute_result"
    }
   ],
   "source": [
    "# remove() deletes the first occurence of the value in the list\n",
    "\n",
    "my_list.remove(8)\n",
    "my_list"
   ]
  },
  {
   "cell_type": "code",
   "execution_count": 31,
   "metadata": {},
   "outputs": [
    {
     "data": {
      "text/plain": [
       "[2, 4, 6, 3, 9, 12, 15, 20]"
      ]
     },
     "execution_count": 31,
     "metadata": {},
     "output_type": "execute_result"
    }
   ],
   "source": [
    "my_list.insert(4,3)\n",
    "my_list.remove(3)\n",
    "my_list"
   ]
  },
  {
   "cell_type": "code",
   "execution_count": 36,
   "metadata": {},
   "outputs": [
    {
     "name": "stdout",
     "output_type": "stream",
     "text": [
      "[4, 6, 3, 9, 12, 15, 20]\n"
     ]
    }
   ],
   "source": [
    "# del is used to remove item based on index\n",
    "\n",
    "del my_list[0]\n",
    "print(my_list)"
   ]
  },
  {
   "cell_type": "code",
   "execution_count": 37,
   "metadata": {},
   "outputs": [
    {
     "data": {
      "text/plain": [
       "20"
      ]
     },
     "execution_count": 37,
     "metadata": {},
     "output_type": "execute_result"
    }
   ],
   "source": [
    "# pop() is another function to delete the items from a list based on index \n",
    "\n",
    "my_list.pop(6)"
   ]
  },
  {
   "cell_type": "code",
   "execution_count": 38,
   "metadata": {},
   "outputs": [
    {
     "data": {
      "text/plain": [
       "[4, 6, 3, 9, 12, 15]"
      ]
     },
     "execution_count": 38,
     "metadata": {},
     "output_type": "execute_result"
    }
   ],
   "source": [
    "my_list"
   ]
  },
  {
   "cell_type": "markdown",
   "metadata": {},
   "source": [
    "# List Extend"
   ]
  },
  {
   "cell_type": "code",
   "execution_count": 33,
   "metadata": {},
   "outputs": [
    {
     "data": {
      "text/plain": [
       "[1, 2, 3, 4, 10, 20]"
      ]
     },
     "execution_count": 33,
     "metadata": {},
     "output_type": "execute_result"
    }
   ],
   "source": [
    "# extend() adds all the elements of iterable(list,tuple,string) at the end of the list\n",
    "# We cannot use extend () to add any other data types apart from iterable.\n",
    "\n",
    "list1=[1,2,3,4]\n",
    "list2=[10,20]\n",
    "list1.extend(list2)\n",
    "list1"
   ]
  },
  {
   "cell_type": "code",
   "execution_count": 35,
   "metadata": {},
   "outputs": [
    {
     "data": {
      "text/plain": [
       "[1, 2, 3, 4, 10, 20, 'P', 'o', 't', 't', 'e', 'r']"
      ]
     },
     "execution_count": 35,
     "metadata": {},
     "output_type": "execute_result"
    }
   ],
   "source": [
    "list1.extend('Potter')\n",
    "list1"
   ]
  },
  {
   "cell_type": "code",
   "execution_count": 39,
   "metadata": {},
   "outputs": [
    {
     "data": {
      "text/plain": [
       "[10, 20, 100, 200]"
      ]
     },
     "execution_count": 39,
     "metadata": {},
     "output_type": "execute_result"
    }
   ],
   "source": [
    "# Lists can be extended also by using + operator\n",
    "\n",
    "list4=[100,200]\n",
    "list2+list4"
   ]
  },
  {
   "cell_type": "markdown",
   "metadata": {},
   "source": [
    "# List Constructor"
   ]
  },
  {
   "cell_type": "code",
   "execution_count": 40,
   "metadata": {},
   "outputs": [
    {
     "name": "stdout",
     "output_type": "stream",
     "text": [
      "['G', 'r', 'a', 'n', 'g', 'e', 'r']\n",
      "[2, 3, 4]\n"
     ]
    }
   ],
   "source": [
    "# list() is used to create list from the sequence\n",
    "\n",
    "name='Granger'\n",
    "list5=list(name)\n",
    "print(list5)\n",
    "\n",
    "list6=list((2,3,4))\n",
    "print(list6)"
   ]
  },
  {
   "cell_type": "markdown",
   "metadata": {},
   "source": [
    "# Other important in-built functions of the List"
   ]
  },
  {
   "cell_type": "markdown",
   "metadata": {},
   "source": [
    "Reversing a list"
   ]
  },
  {
   "cell_type": "code",
   "execution_count": 41,
   "metadata": {},
   "outputs": [
    {
     "name": "stdout",
     "output_type": "stream",
     "text": [
      "['four', 'three', 'two', 'one']\n"
     ]
    }
   ],
   "source": [
    "# Reversing the entire list\n",
    "hp_list=['one','two','three','four']\n",
    "hp_list.reverse()\n",
    "print(hp_list)"
   ]
  },
  {
   "cell_type": "markdown",
   "metadata": {},
   "source": [
    "Sorting a list"
   ]
  },
  {
   "cell_type": "code",
   "execution_count": 42,
   "metadata": {},
   "outputs": [
    {
     "name": "stdout",
     "output_type": "stream",
     "text": [
      "Sorted List:  [2, 2, 4, 6, 8, 9]\n",
      "Reverse Sorted List:  [9, 8, 6, 4, 2, 2]\n",
      "Original List:  [2, 8, 4, 6, 2, 9]\n"
     ]
    }
   ],
   "source": [
    "# sorted() method is used to sort a list\n",
    "# It does not chnage the original list but returns a new list with the elements in sorted order\n",
    "# Also sorted() method gives the option to sort the list in reverse order\n",
    "\n",
    "orig_list=[2,8,4,6,2,9]\n",
    "sorted_list=sorted(orig_list)\n",
    "print('Sorted List: ',sorted_list)\n",
    "\n",
    "reverse_list=sorted(orig_list,reverse=True)\n",
    "print('Reverse Sorted List: ',reverse_list)\n",
    "print('Original List: ',orig_list)"
   ]
  },
  {
   "cell_type": "markdown",
   "metadata": {},
   "source": [
    "List having multiple references"
   ]
  },
  {
   "cell_type": "code",
   "execution_count": 43,
   "metadata": {},
   "outputs": [
    {
     "name": "stdout",
     "output_type": "stream",
     "text": [
      "Original List:  [2, 8, 4, 6, 2, 9, 100]\n",
      "List copy:  [2, 8, 4, 6, 2, 9, 100]\n"
     ]
    }
   ],
   "source": [
    "orig_list=[2,8,4,6,2,9]\n",
    "orig_list_copy=orig_list # Here orig_list_copy reference the same memory location as orig_list \n",
    "orig_list_copy.append(100) # Any change in the referenced list will change the orig_list as both reference the same memory location\n",
    "print('Original List: ',orig_list)\n",
    "print('List copy: ',orig_list_copy)"
   ]
  },
  {
   "cell_type": "markdown",
   "metadata": {},
   "source": [
    "Frequency Count of elements in List"
   ]
  },
  {
   "cell_type": "code",
   "execution_count": 44,
   "metadata": {},
   "outputs": [
    {
     "data": {
      "text/plain": [
       "2"
      ]
     },
     "execution_count": 44,
     "metadata": {},
     "output_type": "execute_result"
    }
   ],
   "source": [
    "orig_list.count(2) # frequency of 2 in the list"
   ]
  },
  {
   "cell_type": "markdown",
   "metadata": {},
   "source": [
    "Minimum and Maximum in a List"
   ]
  },
  {
   "cell_type": "code",
   "execution_count": 46,
   "metadata": {},
   "outputs": [
    {
     "name": "stdout",
     "output_type": "stream",
     "text": [
      "2\n",
      "100\n"
     ]
    }
   ],
   "source": [
    "print(min(orig_list)) # Minimum value in the list\n",
    "print(max(orig_list)) # Maximum value in the list"
   ]
  },
  {
   "cell_type": "markdown",
   "metadata": {},
   "source": [
    "# Looping in List"
   ]
  },
  {
   "cell_type": "code",
   "execution_count": 47,
   "metadata": {},
   "outputs": [
    {
     "name": "stdout",
     "output_type": "stream",
     "text": [
      "1\n",
      "Gryffindor\n",
      "2\n",
      "Hufflepuff\n",
      "True\n"
     ]
    }
   ],
   "source": [
    "houses=[1,'Gryffindor',2,'Hufflepuff',True]\n",
    "\n",
    "for x in houses:  # looping through all the elements in a list\n",
    "    print(x)"
   ]
  },
  {
   "cell_type": "markdown",
   "metadata": {},
   "source": [
    "# Membership in a List"
   ]
  },
  {
   "cell_type": "code",
   "execution_count": 49,
   "metadata": {},
   "outputs": [
    {
     "name": "stdout",
     "output_type": "stream",
     "text": [
      "True\n",
      "False\n",
      "True\n"
     ]
    }
   ],
   "source": [
    "# It returns true if a particular item exists in a particular list otherwise false.\n",
    "\n",
    "print(2 in houses)\n",
    "print('Slytherin' in houses)\n",
    "print(True in houses)"
   ]
  },
  {
   "cell_type": "markdown",
   "metadata": {},
   "source": [
    "# List Comprehension"
   ]
  },
  {
   "cell_type": "markdown",
   "metadata": {},
   "source": [
    "* List Comprehension is a concise way to create new list from existing list.\n",
    "* List comprehension makes the code more readable and save lines of code.\n",
    "* However this is not always, sometimes even though list comprehension saves us the line of codes but decreses code readabilty"
   ]
  },
  {
   "cell_type": "markdown",
   "metadata": {},
   "source": [
    "Syntax:\n",
    "* newlist = [expression for item in iterable if condition == True]\n",
    "* Return value is a new listm leaving the old list unchanged\n",
    "* The condition at the end is optional and it accepts only the items that valuate to True"
   ]
  },
  {
   "cell_type": "markdown",
   "metadata": {},
   "source": [
    "Let's understand list comprehension with few examples"
   ]
  },
  {
   "cell_type": "markdown",
   "metadata": {},
   "source": [
    "Ques: Given a list [2,3,4,5], create a list containing the squares of the elements of the given list"
   ]
  },
  {
   "cell_type": "code",
   "execution_count": 50,
   "metadata": {},
   "outputs": [
    {
     "name": "stdout",
     "output_type": "stream",
     "text": [
      "[4, 9, 16, 25]\n"
     ]
    }
   ],
   "source": [
    "# We will solve this using loop\n",
    "\n",
    "list1=[2,3,4,5]\n",
    "squares=[]\n",
    "for i in list1:\n",
    "    squares.append(i**2)\n",
    "print(squares)"
   ]
  },
  {
   "cell_type": "code",
   "execution_count": 52,
   "metadata": {},
   "outputs": [
    {
     "name": "stdout",
     "output_type": "stream",
     "text": [
      "[4, 9, 16, 25]\n"
     ]
    }
   ],
   "source": [
    "# Now we will solve the above question with list comprehension\n",
    "\n",
    "squares2=[i**2 for i in list1]\n",
    "print(squares2)"
   ]
  },
  {
   "cell_type": "markdown",
   "metadata": {},
   "source": [
    "Ques: Based on a list of fruits, you want a new list, containing only the fruits with the letter \"a\" in the name."
   ]
  },
  {
   "cell_type": "code",
   "execution_count": 54,
   "metadata": {},
   "outputs": [
    {
     "name": "stdout",
     "output_type": "stream",
     "text": [
      "['apple', 'banana', 'mango']\n"
     ]
    }
   ],
   "source": [
    "# We will solve this using loop\n",
    "fruits = [\"apple\", \"banana\", \"cherry\", \"kiwi\", \"mango\"]\n",
    "newlist = []\n",
    "\n",
    "for x in fruits:\n",
    "    if 'a' in x:\n",
    "        newlist.append(x)\n",
    "\n",
    "print(newlist)"
   ]
  },
  {
   "cell_type": "code",
   "execution_count": 55,
   "metadata": {},
   "outputs": [
    {
     "name": "stdout",
     "output_type": "stream",
     "text": [
      "['apple', 'banana', 'mango']\n"
     ]
    }
   ],
   "source": [
    "# Now we will solve the above question with list comprehension\n",
    "\n",
    "newlist = [x for x in fruits if \"a\" in x]\n",
    "\n",
    "print(newlist)"
   ]
  },
  {
   "cell_type": "markdown",
   "metadata": {},
   "source": [
    "Ques: Find the transpose of a matrix"
   ]
  },
  {
   "cell_type": "code",
   "execution_count": 57,
   "metadata": {},
   "outputs": [
    {
     "name": "stdout",
     "output_type": "stream",
     "text": [
      "[[1, 2, 7], [3, 4, 8], [5, 6, 9]]\n"
     ]
    }
   ],
   "source": [
    "matrix=[[1,3,5],\n",
    "       [2,4,6],\n",
    "       [7,8,9]]\n",
    "\n",
    "# Transpose of the matrix will be [[1,2,7],\n",
    "#                                 [3,4,8],\n",
    "#                                 [5,6,9]]\n",
    "\n",
    "# Using Looping\n",
    "transposed_matrix=[]\n",
    "\n",
    "for i in range(3):\n",
    "    lst=[]\n",
    "    for row in matrix:\n",
    "        lst.append(row[i])\n",
    "    transposed_matrix.append(lst)\n",
    "print(transposed_matrix)\n",
    "    "
   ]
  },
  {
   "cell_type": "code",
   "execution_count": 58,
   "metadata": {},
   "outputs": [
    {
     "name": "stdout",
     "output_type": "stream",
     "text": [
      "[[1, 2, 7], [3, 4, 8], [5, 6, 9]]\n"
     ]
    }
   ],
   "source": [
    "# Using list comprehension\n",
    "\n",
    "transposed_matrix=[[row[i] for row in matrix] for i in range(3)]\n",
    "print(transposed_matrix)"
   ]
  },
  {
   "cell_type": "code",
   "execution_count": null,
   "metadata": {},
   "outputs": [],
   "source": []
  }
 ],
 "metadata": {
  "kernelspec": {
   "display_name": "Python 3",
   "language": "python",
   "name": "python3"
  },
  "language_info": {
   "codemirror_mode": {
    "name": "ipython",
    "version": 3
   },
   "file_extension": ".py",
   "mimetype": "text/x-python",
   "name": "python",
   "nbconvert_exporter": "python",
   "pygments_lexer": "ipython3",
   "version": "3.7.4"
  }
 },
 "nbformat": 4,
 "nbformat_minor": 2
}
